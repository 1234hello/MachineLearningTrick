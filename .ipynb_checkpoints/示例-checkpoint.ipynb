{
 "cells": [
  {
   "cell_type": "markdown",
   "metadata": {},
   "source": [
    "获取数据，切分数据集"
   ]
  },
  {
   "cell_type": "code",
   "execution_count": 50,
   "metadata": {
    "collapsed": true
   },
   "outputs": [],
   "source": [
    "from sklearn.model_selection import train_test_split\n",
    "from sklearn import metrics\n",
    "from sklearn.datasets  import  make_hastie_10_2\n",
    "from xgboost.sklearn import XGBClassifier\n",
    "from sklearn.linear_model import LogisticRegression\n",
    "import numpy as np\n",
    "from sklearn.preprocessing import OneHotEncoder\n",
    "grd_enc = OneHotEncoder()\n",
    "##载入示例数据 10维度\n",
    "X, y = make_hastie_10_2(random_state=0)\n",
    "\n",
    "X_train, X_test, y_train, y_test = train_test_split(X, y, test_size=0.2, random_state=0)##test_size测试集合所占比例\n",
    "##X_train_1用于生成模型  X_train_2用于和新特征组成新训练集合\n",
    "X_train_1, X_train_2, y_train_1, y_train_2 = train_test_split(X_train, y_train, test_size=0.8, random_state=0)\n"
   ]
  },
  {
   "cell_type": "code",
   "execution_count": 51,
   "metadata": {
    "collapsed": false
   },
   "outputs": [
    {
     "name": "stdout",
     "output_type": "stream",
     "text": [
      "AUC Score : 0.494995\n",
      "Accuracy : 0.5392\n"
     ]
    }
   ],
   "source": [
    "model=LogisticRegression(penalty='l2', C=2)\n",
    "model.fit(X_train, y_train)\n",
    "y_pre= model.predict(X_test)\n",
    "y_pro= model.predict_proba(X_test)[:,1] \n",
    "print \"AUC Score : %f\" % metrics.roc_auc_score(y_test, y_pro) \n",
    "print\"Accuracy : %.4g\" % metrics.accuracy_score(y_test, y_pre)"
   ]
  },
  {
   "cell_type": "code",
   "execution_count": 52,
   "metadata": {
    "collapsed": true
   },
   "outputs": [],
   "source": [
    "##合并维度 新旧特征合并\n",
    "import numpy as np\n",
    "def mergeToOne(X,X2):\n",
    "    X3=[]\n",
    "    for i in xrange(X.shape[0]):\n",
    "        tmp=np.array([list(X[i]),list(X2[i])])\n",
    "        X3.append(list(np.hstack(tmp)))\n",
    "    X3=np.array(X3)\n",
    "    return X3"
   ]
  },
  {
   "cell_type": "markdown",
   "metadata": {},
   "source": [
    "训练生成叶子节点的模型且合并新特征"
   ]
  },
  {
   "cell_type": "code",
   "execution_count": 53,
   "metadata": {
    "collapsed": false
   },
   "outputs": [],
   "source": [
    "clf = XGBClassifier(\n",
    " learning_rate =0.3, #默认0.3\n",
    " n_estimators=10, #树的个数\n",
    " max_depth=3,\n",
    " min_child_weight=1,\n",
    " gamma=0.5,\n",
    " subsample=0.6,\n",
    " colsample_bytree=0.6,\n",
    " objective= 'binary:logistic', #逻辑回归损失函数\n",
    " nthread=4,  #cpu线程数\n",
    " scale_pos_weight=1,\n",
    " reg_alpha=1e-05,\n",
    " reg_lambda=1,\n",
    " seed=27)  #随机种子\n",
    "clf.fit(X_train_1, y_train_1)\n",
    "new_feature= clf.apply(X_train_2)\n",
    "X_train_new2=mergeToOne(X_train_2,new_feature)\n",
    "new_feature_test= clf.apply(X_test)\n",
    "X_test_new=mergeToOne(X_test,new_feature_test)"
   ]
  },
  {
   "cell_type": "markdown",
   "metadata": {},
   "source": [
    "与原始LR模型比对"
   ]
  },
  {
   "cell_type": "code",
   "execution_count": 54,
   "metadata": {
    "collapsed": false
   },
   "outputs": [
    {
     "name": "stdout",
     "output_type": "stream",
     "text": [
      "AUC Score : 0.720448\n",
      "Accuracy : 0.6717\n"
     ]
    }
   ],
   "source": [
    "model=LogisticRegression(penalty='l2', C=2)\n",
    "model.fit(X_train_new2, y_train_2)\n",
    "y_pre= model.predict(X_test_new)\n",
    "y_pro= model.predict_proba(X_test_new)[:,1] \n",
    "print \"AUC Score : %f\" % metrics.roc_auc_score(y_test, y_pro) \n",
    "print\"Accuracy : %.4g\" % metrics.accuracy_score(y_test, y_pre) "
   ]
  },
  {
   "cell_type": "markdown",
   "metadata": {},
   "source": [
    "对叶子节点进行one-hot编码"
   ]
  },
  {
   "cell_type": "code",
   "execution_count": 55,
   "metadata": {
    "collapsed": false
   },
   "outputs": [],
   "source": [
    "clf = XGBClassifier(\n",
    " learning_rate =0.3, #默认0.3\n",
    " n_estimators=10, #树的个数\n",
    " max_depth=3,\n",
    " min_child_weight=1,\n",
    " gamma=0.5,\n",
    " subsample=0.6,\n",
    " colsample_bytree=0.6,\n",
    " objective= 'binary:logistic', #逻辑回归损失函数\n",
    " nthread=4,  #cpu线程数\n",
    " scale_pos_weight=1,\n",
    " reg_alpha=1e-05,\n",
    " reg_lambda=1,\n",
    " seed=27)  #随机种子\n",
    "clf.fit(X_train_1, y_train_1)\n",
    "new_feature= clf.apply(X_train_2)\n",
    "grd_enc.fit(new_feature)\n",
    "new_feature=grd_enc.transform(new_feature).toarray()\n",
    "X_train_new2=mergeToOne(X_train_2,new_feature)\n",
    "new_feature_test= clf.apply(X_test)\n",
    "new_feature_test=grd_enc.transform(new_feature_test).toarray()\n",
    "X_test_new=mergeToOne(X_test,new_feature_test)"
   ]
  },
  {
   "cell_type": "code",
   "execution_count": 56,
   "metadata": {
    "collapsed": false
   },
   "outputs": [
    {
     "name": "stdout",
     "output_type": "stream",
     "text": [
      "AUC Score : 0.905052\n",
      "Accuracy : 0.8183\n"
     ]
    }
   ],
   "source": [
    "model=LogisticRegression(penalty='l2', C=2)\n",
    "model.fit(X_train_new2, y_train_2)\n",
    "y_pre= model.predict(X_test_new)\n",
    "y_pro= model.predict_proba(X_test_new)[:,1] \n",
    "print \"AUC Score : %f\" % metrics.roc_auc_score(y_test, y_pro) \n",
    "print\"Accuracy : %.4g\" % metrics.accuracy_score(y_test, y_pre) "
   ]
  },
  {
   "cell_type": "markdown",
   "metadata": {},
   "source": [
    "只使用叶子节点特征"
   ]
  },
  {
   "cell_type": "code",
   "execution_count": 57,
   "metadata": {
    "collapsed": false
   },
   "outputs": [],
   "source": [
    "clf = XGBClassifier(\n",
    " learning_rate =0.3, #默认0.3\n",
    " n_estimators=20, #树的个数\n",
    " max_depth=3,\n",
    " min_child_weight=1,\n",
    " gamma=0.5,\n",
    " subsample=0.6,\n",
    " colsample_bytree=0.6,\n",
    " objective= 'binary:logistic', #逻辑回归损失函数\n",
    " nthread=4,  #cpu线程数\n",
    " scale_pos_weight=1,\n",
    " reg_alpha=1e-05,\n",
    " reg_lambda=1,\n",
    " seed=27)  #随机种子\n",
    "clf.fit(X_train_1, y_train_1)\n",
    "new_feature= clf.apply(X_train_2)\n",
    "grd_enc.fit(new_feature)\n",
    "X_train_new2=grd_enc.transform(new_feature).toarray()\n",
    "new_feature_test= clf.apply(X_test)\n",
    "X_test_new=grd_enc.transform(new_feature_test).toarray()"
   ]
  },
  {
   "cell_type": "code",
   "execution_count": 58,
   "metadata": {
    "collapsed": false
   },
   "outputs": [
    {
     "name": "stdout",
     "output_type": "stream",
     "text": [
      "AUC Score : 0.945781\n",
      "Accuracy : 0.8662\n"
     ]
    }
   ],
   "source": [
    "model=LogisticRegression(penalty='l2', C=2)\n",
    "model.fit(X_train_new2, y_train_2)\n",
    "y_pre= model.predict(X_test_new)\n",
    "y_pro= model.predict_proba(X_test_new)[:,1] \n",
    "print \"AUC Score : %f\" % metrics.roc_auc_score(y_test, y_pro) \n",
    "print\"Accuracy : %.4g\" % metrics.accuracy_score(y_test, y_pre) "
   ]
  },
  {
   "cell_type": "code",
   "execution_count": 59,
   "metadata": {
    "collapsed": false
   },
   "outputs": [
    {
     "name": "stdout",
     "output_type": "stream",
     "text": [
      "(134416, 52) (252481, 52) (112803, 52)\n"
     ]
    }
   ],
   "source": [
    "import pandas as pd\n",
    "import xgboost as xgb\n",
    "from sklearn.preprocessing import MinMaxScaler\n",
    "path=\"/Users/yuyin/Downloads/笔记学习/天池比赛/o2o优惠券预测/冠军代码/O2O-Coupon-Usage-Forecast-master/code/wepon/season one/\"\n",
    "dataset1 = pd.read_csv(path+'data/dataset1.csv')\n",
    "##-1替换成0\n",
    "dataset1.label.replace(-1,0,inplace=True)\n",
    "dataset2 = pd.read_csv(path+'data/dataset2.csv')\n",
    "dataset2.label.replace(-1,0,inplace=True)\n",
    "dataset3 = pd.read_csv(path+'data/dataset3.csv')\n",
    "\n",
    "dataset1.drop_duplicates(inplace=True)\n",
    "dataset2.drop_duplicates(inplace=True)\n",
    "dataset3.drop_duplicates(inplace=True)\n",
    "\n",
    "dataset12 = pd.concat([dataset1,dataset2],axis=0)\n",
    "\n",
    "dataset1_y = dataset1.label\n",
    "dataset1_x = dataset1.drop(['user_id','label','day_gap_before','day_gap_after'],axis=1)  # 'day_gap_before','day_gap_after' cause overfitting, 0.77\n",
    "dataset2_y = dataset2.label\n",
    "dataset2_x = dataset2.drop(['user_id','label','day_gap_before','day_gap_after'],axis=1)\n",
    "dataset12_y = dataset12.label\n",
    "dataset12_x = dataset12.drop(['user_id','label','day_gap_before','day_gap_after'],axis=1)\n",
    "dataset3_preds = dataset3[['user_id','coupon_id','date_received']]\n",
    "dataset3_x = dataset3.drop(['user_id','coupon_id','date_received','day_gap_before','day_gap_after'],axis=1)\n",
    "\n",
    "print dataset1_x.shape,dataset2_x.shape,dataset3_x.shape\n"
   ]
  },
  {
   "cell_type": "code",
   "execution_count": 60,
   "metadata": {
    "collapsed": false
   },
   "outputs": [
    {
     "data": {
      "text/html": [
       "<div>\n",
       "<table border=\"1\" class=\"dataframe\">\n",
       "  <thead>\n",
       "    <tr style=\"text-align: right;\">\n",
       "      <th></th>\n",
       "      <th>discount_rate</th>\n",
       "      <th>distance</th>\n",
       "      <th>day_of_month</th>\n",
       "      <th>days_distance</th>\n",
       "      <th>discount_man</th>\n",
       "      <th>discount_jian</th>\n",
       "      <th>is_man_jian</th>\n",
       "      <th>total_sales</th>\n",
       "      <th>sales_use_coupon</th>\n",
       "      <th>total_coupon</th>\n",
       "      <th>...</th>\n",
       "      <th>this_day_user_receive_all_coupon_count</th>\n",
       "      <th>this_day_user_receive_same_coupon_count</th>\n",
       "      <th>is_weekend</th>\n",
       "      <th>weekday1</th>\n",
       "      <th>weekday2</th>\n",
       "      <th>weekday3</th>\n",
       "      <th>weekday4</th>\n",
       "      <th>weekday5</th>\n",
       "      <th>weekday6</th>\n",
       "      <th>weekday7</th>\n",
       "    </tr>\n",
       "  </thead>\n",
       "  <tbody>\n",
       "    <tr>\n",
       "      <th>0</th>\n",
       "      <td>0.900000</td>\n",
       "      <td>0.0</td>\n",
       "      <td>29</td>\n",
       "      <td>16</td>\n",
       "      <td>200.0</td>\n",
       "      <td>20.0</td>\n",
       "      <td>1</td>\n",
       "      <td>14962.0</td>\n",
       "      <td>2168.0</td>\n",
       "      <td>100369.0</td>\n",
       "      <td>...</td>\n",
       "      <td>1</td>\n",
       "      <td>1</td>\n",
       "      <td>0</td>\n",
       "      <td>0</td>\n",
       "      <td>0</td>\n",
       "      <td>0</td>\n",
       "      <td>0</td>\n",
       "      <td>1</td>\n",
       "      <td>0</td>\n",
       "      <td>0</td>\n",
       "    </tr>\n",
       "    <tr>\n",
       "      <th>1</th>\n",
       "      <td>0.850000</td>\n",
       "      <td>10.0</td>\n",
       "      <td>21</td>\n",
       "      <td>8</td>\n",
       "      <td>200.0</td>\n",
       "      <td>30.0</td>\n",
       "      <td>1</td>\n",
       "      <td>787.0</td>\n",
       "      <td>105.0</td>\n",
       "      <td>21509.0</td>\n",
       "      <td>...</td>\n",
       "      <td>1</td>\n",
       "      <td>1</td>\n",
       "      <td>0</td>\n",
       "      <td>0</td>\n",
       "      <td>0</td>\n",
       "      <td>0</td>\n",
       "      <td>1</td>\n",
       "      <td>0</td>\n",
       "      <td>0</td>\n",
       "      <td>0</td>\n",
       "    </tr>\n",
       "    <tr>\n",
       "      <th>2</th>\n",
       "      <td>0.900000</td>\n",
       "      <td>10.0</td>\n",
       "      <td>26</td>\n",
       "      <td>13</td>\n",
       "      <td>200.0</td>\n",
       "      <td>20.0</td>\n",
       "      <td>1</td>\n",
       "      <td>14962.0</td>\n",
       "      <td>2168.0</td>\n",
       "      <td>100369.0</td>\n",
       "      <td>...</td>\n",
       "      <td>1</td>\n",
       "      <td>1</td>\n",
       "      <td>0</td>\n",
       "      <td>0</td>\n",
       "      <td>1</td>\n",
       "      <td>0</td>\n",
       "      <td>0</td>\n",
       "      <td>0</td>\n",
       "      <td>0</td>\n",
       "      <td>0</td>\n",
       "    </tr>\n",
       "    <tr>\n",
       "      <th>3</th>\n",
       "      <td>0.833333</td>\n",
       "      <td>NaN</td>\n",
       "      <td>29</td>\n",
       "      <td>16</td>\n",
       "      <td>30.0</td>\n",
       "      <td>5.0</td>\n",
       "      <td>1</td>\n",
       "      <td>6553.0</td>\n",
       "      <td>408.0</td>\n",
       "      <td>31892.0</td>\n",
       "      <td>...</td>\n",
       "      <td>1</td>\n",
       "      <td>1</td>\n",
       "      <td>0</td>\n",
       "      <td>0</td>\n",
       "      <td>0</td>\n",
       "      <td>0</td>\n",
       "      <td>0</td>\n",
       "      <td>1</td>\n",
       "      <td>0</td>\n",
       "      <td>0</td>\n",
       "    </tr>\n",
       "    <tr>\n",
       "      <th>4</th>\n",
       "      <td>0.850000</td>\n",
       "      <td>9.0</td>\n",
       "      <td>26</td>\n",
       "      <td>13</td>\n",
       "      <td>200.0</td>\n",
       "      <td>30.0</td>\n",
       "      <td>1</td>\n",
       "      <td>787.0</td>\n",
       "      <td>105.0</td>\n",
       "      <td>21509.0</td>\n",
       "      <td>...</td>\n",
       "      <td>1</td>\n",
       "      <td>1</td>\n",
       "      <td>0</td>\n",
       "      <td>0</td>\n",
       "      <td>1</td>\n",
       "      <td>0</td>\n",
       "      <td>0</td>\n",
       "      <td>0</td>\n",
       "      <td>0</td>\n",
       "      <td>0</td>\n",
       "    </tr>\n",
       "  </tbody>\n",
       "</table>\n",
       "<p>5 rows × 52 columns</p>\n",
       "</div>"
      ],
      "text/plain": [
       "   discount_rate  distance  day_of_month  days_distance  discount_man  \\\n",
       "0       0.900000       0.0            29             16         200.0   \n",
       "1       0.850000      10.0            21              8         200.0   \n",
       "2       0.900000      10.0            26             13         200.0   \n",
       "3       0.833333       NaN            29             16          30.0   \n",
       "4       0.850000       9.0            26             13         200.0   \n",
       "\n",
       "   discount_jian  is_man_jian  total_sales  sales_use_coupon  total_coupon  \\\n",
       "0           20.0            1      14962.0            2168.0      100369.0   \n",
       "1           30.0            1        787.0             105.0       21509.0   \n",
       "2           20.0            1      14962.0            2168.0      100369.0   \n",
       "3            5.0            1       6553.0             408.0       31892.0   \n",
       "4           30.0            1        787.0             105.0       21509.0   \n",
       "\n",
       "     ...     this_day_user_receive_all_coupon_count  \\\n",
       "0    ...                                          1   \n",
       "1    ...                                          1   \n",
       "2    ...                                          1   \n",
       "3    ...                                          1   \n",
       "4    ...                                          1   \n",
       "\n",
       "   this_day_user_receive_same_coupon_count  is_weekend  weekday1  weekday2  \\\n",
       "0                                        1           0         0         0   \n",
       "1                                        1           0         0         0   \n",
       "2                                        1           0         0         1   \n",
       "3                                        1           0         0         0   \n",
       "4                                        1           0         0         1   \n",
       "\n",
       "   weekday3  weekday4  weekday5  weekday6  weekday7  \n",
       "0         0         0         1         0         0  \n",
       "1         0         1         0         0         0  \n",
       "2         0         0         0         0         0  \n",
       "3         0         0         1         0         0  \n",
       "4         0         0         0         0         0  \n",
       "\n",
       "[5 rows x 52 columns]"
      ]
     },
     "execution_count": 60,
     "metadata": {},
     "output_type": "execute_result"
    }
   ],
   "source": [
    "dataset1_x.head()"
   ]
  },
  {
   "cell_type": "code",
   "execution_count": 83,
   "metadata": {
    "collapsed": false
   },
   "outputs": [
    {
     "name": "stdout",
     "output_type": "stream",
     "text": [
      "AUC Score : 0.837112\n",
      "Accuracy : 0.9354\n"
     ]
    }
   ],
   "source": [
    "dataset1_x=dataset1_x.fillna(0) \n",
    "x=np.array(dataset1_x)\n",
    "y=np.array(dataset1_y)\n",
    "\n",
    "X_train, X_test, y_train, y_test = train_test_split(x, y, test_size=0.2, random_state=0)##test_size测试集合所占比例\n",
    "##X_train_1用于生成模型  X_train_2用于和新特征组成新训练集合\n",
    "X_train_1, X_train_2, y_train_1, y_train_2 = train_test_split(X_train, y_train, test_size=0.8, random_state=0)\n",
    "\n",
    "# model = XGBClassifier(\n",
    "#  learning_rate =0.1,\n",
    "#  n_estimators=500,\n",
    "#  max_depth=3,\n",
    "#  min_child_weight=1,\n",
    "#  gamma=0.5,\n",
    "#  subsample=0.6,\n",
    "#  colsample_bytree=0.6,\n",
    "#  objective= 'binary:logistic', \n",
    "#  nthread=4, \n",
    "#  scale_pos_weight=1,\n",
    "#  reg_alpha=1e-05,\n",
    "#  reg_lambda=1,\n",
    "#  seed=27)\n",
    "model=LogisticRegression(penalty='l2', C=2)\n",
    "model.fit(X_train, y_train)\n",
    "y_pre= model.predict(X_test)\n",
    "y_pro= model.predict_proba(X_test)[:,1] \n",
    "print \"AUC Score : %f\" % metrics.roc_auc_score(y_test, y_pro) \n",
    "print\"Accuracy : %.4g\" % metrics.accuracy_score(y_test, y_pre)"
   ]
  },
  {
   "cell_type": "code",
   "execution_count": 84,
   "metadata": {
    "collapsed": false
   },
   "outputs": [
    {
     "name": "stdout",
     "output_type": "stream",
     "text": [
      "AUC Score : 0.855685\n",
      "Accuracy : 0.9368\n"
     ]
    }
   ],
   "source": [
    "clf = XGBClassifier(\n",
    " learning_rate =0.3, #默认0.3\n",
    " n_estimators=20, #树的个数\n",
    " max_depth=3,\n",
    " min_child_weight=1,\n",
    " gamma=0.5,\n",
    " subsample=0.6,\n",
    " colsample_bytree=0.6,\n",
    " objective= 'binary:logistic', #逻辑回归损失函数\n",
    " nthread=4,  #cpu线程数\n",
    " scale_pos_weight=1,\n",
    " reg_alpha=1e-05,\n",
    " reg_lambda=1,\n",
    " seed=27)  #随机种子\n",
    "clf.fit(X_train_1, y_train_1)\n",
    "new_feature= clf.apply(X_train_2)\n",
    "X_train_new2=mergeToOne(X_train_2,new_feature)\n",
    "new_feature_test= clf.apply(X_test)\n",
    "X_test_new=mergeToOne(X_test,new_feature_test)\n",
    "# model = XGBClassifier(\n",
    "#  learning_rate =0.1,\n",
    "#  n_estimators=500,\n",
    "#  max_depth=3,\n",
    "#  min_child_weight=1,\n",
    "#  gamma=0.5,\n",
    "#  subsample=0.6,\n",
    "#  colsample_bytree=0.6,\n",
    "#  objective= 'binary:logistic', \n",
    "#  nthread=4, \n",
    "#  scale_pos_weight=1,\n",
    "#  reg_alpha=1e-05,\n",
    "#  reg_lambda=1,\n",
    "#  seed=27)\n",
    "model=LogisticRegression(penalty='l2', C=2)\n",
    "model.fit(X_train_new2, y_train_2)\n",
    "y_pre= model.predict(X_test_new)\n",
    "y_pro= model.predict_proba(X_test_new)[:,1] \n",
    "print \"AUC Score : %f\" % metrics.roc_auc_score(y_test, y_pro) \n",
    "print\"Accuracy : %.4g\" % metrics.accuracy_score(y_test, y_pre) "
   ]
  },
  {
   "cell_type": "code",
   "execution_count": 89,
   "metadata": {
    "collapsed": false
   },
   "outputs": [
    {
     "name": "stdout",
     "output_type": "stream",
     "text": [
      "AUC Score : 0.862725\n",
      "Accuracy : 0.9369\n"
     ]
    }
   ],
   "source": [
    "clf = XGBClassifier(\n",
    " learning_rate =0.3, #默认0.3\n",
    " n_estimators=100, #树的个数\n",
    " max_depth=3,\n",
    " min_child_weight=1,\n",
    " gamma=0.5,\n",
    " subsample=0.6,\n",
    " colsample_bytree=0.6,\n",
    " objective= 'binary:logistic', #逻辑回归损失函数\n",
    " nthread=4,  #cpu线程数\n",
    " scale_pos_weight=1,\n",
    " reg_alpha=1e-05,\n",
    " reg_lambda=1,\n",
    " seed=27)  #随机种子\n",
    "clf.fit(X_train_1, y_train_1)\n",
    "new_feature= clf.apply(X_train_2)\n",
    "grd_enc.fit(new_feature)\n",
    "new_feature=grd_enc.transform(new_feature).toarray()\n",
    "X_train_new2=mergeToOne(X_train_2,new_feature)\n",
    "new_feature_test= clf.apply(X_test)\n",
    "new_feature_test=grd_enc.transform(new_feature_test).toarray()\n",
    "X_test_new=mergeToOne(X_test,new_feature_test)\n",
    "model=LogisticRegression(penalty='l2', C=2)\n",
    "model.fit(X_train_new2, y_train_2)\n",
    "y_pre= model.predict(X_test_new)\n",
    "y_pro= model.predict_proba(X_test_new)[:,1] \n",
    "print \"AUC Score : %f\" % metrics.roc_auc_score(y_test, y_pro) \n",
    "print\"Accuracy : %.4g\" % metrics.accuracy_score(y_test, y_pre) "
   ]
  },
  {
   "cell_type": "code",
   "execution_count": 88,
   "metadata": {
    "collapsed": false
   },
   "outputs": [
    {
     "name": "stdout",
     "output_type": "stream",
     "text": [
      "AUC Score : 0.880926\n",
      "Accuracy : 0.9412\n"
     ]
    }
   ],
   "source": [
    "clf = XGBClassifier(\n",
    " learning_rate =0.1, #默认0.3\n",
    " n_estimators=100, #树的个数\n",
    " max_depth=3,\n",
    " min_child_weight=1,\n",
    " gamma=0.5,\n",
    " subsample=0.6,\n",
    " colsample_bytree=0.6,\n",
    " objective= 'binary:logistic', #逻辑回归损失函数\n",
    " nthread=4,  #cpu线程数\n",
    " scale_pos_weight=1,\n",
    " reg_alpha=1e-05,\n",
    " reg_lambda=1,\n",
    " seed=27)  #随机种子\n",
    "clf.fit(X_train_1, y_train_1)\n",
    "new_feature= clf.apply(X_train_2)\n",
    "grd_enc.fit(new_feature)\n",
    "X_train_new2=grd_enc.transform(new_feature).toarray()\n",
    "new_feature_test= clf.apply(X_test)\n",
    "X_test_new=grd_enc.transform(new_feature_test).toarray()\n",
    "model=LogisticRegression(penalty='l2', C=2)\n",
    "model.fit(X_train_new2, y_train_2)\n",
    "y_pre= model.predict(X_test_new)\n",
    "y_pro= model.predict_proba(X_test_new)[:,1] \n",
    "print \"AUC Score : %f\" % metrics.roc_auc_score(y_test, y_pro) \n",
    "print\"Accuracy : %.4g\" % metrics.accuracy_score(y_test, y_pre) "
   ]
  },
  {
   "cell_type": "code",
   "execution_count": null,
   "metadata": {
    "collapsed": true
   },
   "outputs": [],
   "source": []
  }
 ],
 "metadata": {
  "kernelspec": {
   "display_name": "Python 2",
   "language": "python",
   "name": "python2"
  },
  "language_info": {
   "codemirror_mode": {
    "name": "ipython",
    "version": 2
   },
   "file_extension": ".py",
   "mimetype": "text/x-python",
   "name": "python",
   "nbconvert_exporter": "python",
   "pygments_lexer": "ipython2",
   "version": "2.7.12"
  }
 },
 "nbformat": 4,
 "nbformat_minor": 1
}
